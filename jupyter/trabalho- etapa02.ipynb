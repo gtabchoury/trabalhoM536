{
 "cells": [
  {
   "cell_type": "markdown",
   "metadata": {},
   "source": []
  },
  {
   "cell_type": "markdown",
   "metadata": {},
   "source": [
    "Modelo Conceitual\n",
    "<img src=\"https://github.com/gtabchoury/trabalhoMC536/blob/master/documentos/Modelo%20Conceitual.png\"><img>"
   ]
  },
  {
   "cell_type": "markdown",
   "metadata": {},
   "source": [
    "Modelo Lógico\n",
    "\n",
    "PESSOA (id, idade, genero, estado, idEmpresa)\n",
    "idEmpresa-> Chave Estrangeira: Empresa(id)\n",
    "estado> Chave Estrangeira: Estado(sigla)\n",
    "\n",
    "PESSOA_RESPOSTA (id, idPessoa, data_hora, busca_tratamento, interfere_trabalho, conhece_opcoes, programa_saude, oferece_recursos, anonimidade, licenca_medica, mental_consequencia, fisica_consequencia, colegas_trabalho, supervisor, mental_entrevista, fisica_entrevista, mental_fisica, houve_consequencias)\n",
    "idPessoa -> Chave Estrangeira: Pessoa(id)\n",
    "\n",
    "EMPRESA(id, n_funcionarios, area_atuacao, beneficios)\n",
    "\n",
    "ESTADO(sigla, pais)\n",
    "pais> Chave Estrangeira: Pais(nome)\n",
    "\n",
    "PAIS(nome)"
   ]
  },
  {
   "cell_type": "code",
   "execution_count": 1,
   "metadata": {},
   "outputs": [],
   "source": [
    "%defaultDatasource jdbc:h2:mem:db"
   ]
  },
  {
   "cell_type": "code",
   "execution_count": 2,
   "metadata": {},
   "outputs": [],
   "source": [
    "DROP TABLE IF EXISTS Pais;\n",
    "CREATE TABLE Pais (\n",
    "  nome VARCHAR(50),\n",
    "  PRIMARY KEY(nome)\n",
    ");\n",
    "\n",
    "DROP TABLE IF EXISTS Estado;\n",
    "CREATE TABLE Estado (\n",
    "  nome VARCHAR(50),\n",
    "  sigla VARCHAR(2),\n",
    "  pais VARCHAR(10),\n",
    "  PRIMARY KEY(sigla),\n",
    "  FOREIGN KEY(pais)\n",
    "    REFERENCES Pais(nome)\n",
    "      ON DELETE NO ACTION\n",
    "      ON UPDATE NO ACTION\n",
    ");\n",
    "\n",
    "DROP TABLE IF EXISTS Empresa;\n",
    "CREATE TABLE Empresa (\n",
    "  id VARCHAR(10) NOT NULL,\n",
    "  n_funcionarios SMALLINT,\n",
    "  area_atuacao VARCHAR(50),\n",
    "  beneficios VARCHAR(50),\n",
    "  PRIMARY KEY(id)\n",
    ");\n",
    "\n",
    "DROP TABLE IF EXISTS Pessoa;\n",
    "CREATE TABLE Pessoa (\n",
    "  id VARCHAR(10) NOT NULL,\n",
    "  genero VARCHAR(10),\n",
    "  idade SMALLINT,\n",
    "  empresa VARCHAR(10),\n",
    "  estado VARCHAR(10),\n",
    "  PRIMARY KEY(id),\n",
    "  FOREIGN KEY(empresa)\n",
    "    REFERENCES Empresa(id)\n",
    "      ON DELETE NO ACTION\n",
    "      ON UPDATE NO ACTION,\n",
    "  FOREIGN KEY(estado)\n",
    "    REFERENCES Estado(sigla)\n",
    "      ON DELETE NO ACTION\n",
    "      ON UPDATE NO ACTION\n",
    ");\n",
    "\n",
    "DROP TABLE IF EXISTS Pessoa_Resposta;\n",
    "CREATE TABLE Pessoa_Resposta (\n",
    "  id VARCHAR(10) NOT NULL,\n",
    "  idPessoa VARCHAR(10) NOT NULL,\n",
    "  data_hora VARCHAR(10),\n",
    "  busca_tratamento VARCHAR(10),\n",
    "  interfere_trabalho VARCHAR(10),\n",
    "  conhece_opcoes VARCHAR(10),\n",
    "  programa_saude VARCHAR(10),\n",
    "  oferece_recursos VARCHAR(10),\n",
    "  anonimidade VARCHAR(10),\n",
    "  licenca_medica VARCHAR(10),\n",
    "  mental_consequencia VARCHAR(10),\n",
    "  fisica_consequencia VARCHAR(10),\n",
    "  colegas_trabalho VARCHAR(10),\n",
    "  supervisor VARCHAR(10),\n",
    "  mental_entrevista VARCHAR(10),\n",
    "  fisica_entrevista VARCHAR(10),\n",
    "  mental_fisica VARCHAR(10),\n",
    "  houve_consequencias VARCHAR(10),\n",
    "  PRIMARY KEY(id),\n",
    "  FOREIGN KEY(idPessoa)\n",
    "    REFERENCES Pessoa(id)\n",
    "      ON DELETE NO ACTION\n",
    "      ON UPDATE NO ACTION,\n",
    ");\n"
   ]
  },
  {
   "cell_type": "code",
   "execution_count": 3,
   "metadata": {},
   "outputs": [],
   "source": [
    "INSERT INTO Pais (nome) VALUES('Australia');\n",
    "INSERT INTO Pais (nome) VALUES('Austria');\n",
    "INSERT INTO Pais (nome) VALUES('Belgium');\n",
    "INSERT INTO Pais (nome) VALUES('Bosnia and Herzegovina');\n",
    "INSERT INTO Pais (nome) VALUES('Brazil');\n",
    "INSERT INTO Pais (nome) VALUES('Bulgaria');\n",
    "INSERT INTO Pais (nome) VALUES('Canada');\n",
    "INSERT INTO Pais (nome) VALUES('China');\n",
    "INSERT INTO Pais (nome) VALUES('Colombia');\n",
    "INSERT INTO Pais (nome) VALUES('Costa Rica');\n",
    "INSERT INTO Pais (nome) VALUES('Croatia');\n",
    "INSERT INTO Pais (nome) VALUES('Czech Republic');\n",
    "INSERT INTO Pais (nome) VALUES('Denmark');\n",
    "INSERT INTO Pais (nome) VALUES('Finland');\n",
    "INSERT INTO Pais (nome) VALUES('France');\n",
    "INSERT INTO Pais (nome) VALUES('Georgia');\n",
    "INSERT INTO Pais (nome) VALUES('Germany');\n",
    "INSERT INTO Pais (nome) VALUES('Greece');\n",
    "INSERT INTO Pais (nome) VALUES('Hungary');\n",
    "INSERT INTO Pais (nome) VALUES('India');\n",
    "INSERT INTO Pais (nome) VALUES('Ireland');\n",
    "INSERT INTO Pais (nome) VALUES('Israel');\n",
    "INSERT INTO Pais (nome) VALUES('Italy');\n",
    "INSERT INTO Pais (nome) VALUES('Japan');\n",
    "INSERT INTO Pais (nome) VALUES('Latvia');\n",
    "INSERT INTO Pais (nome) VALUES('Mexico');\n",
    "INSERT INTO Pais (nome) VALUES('Moldova');\n",
    "INSERT INTO Pais (nome) VALUES('Netherlands');\n",
    "INSERT INTO Pais (nome) VALUES('New Zealand');\n",
    "INSERT INTO Pais (nome) VALUES('Nigeria');\n",
    "INSERT INTO Pais (nome) VALUES('Norway');\n",
    "INSERT INTO Pais (nome) VALUES('Philippines');\n",
    "INSERT INTO Pais (nome) VALUES('Poland');\n",
    "INSERT INTO Pais (nome) VALUES('Portugal');\n",
    "INSERT INTO Pais (nome) VALUES('Romania');\n",
    "INSERT INTO Pais (nome) VALUES('Russia');\n",
    "INSERT INTO Pais (nome) VALUES('Singapore');\n",
    "INSERT INTO Pais (nome) VALUES('Slovenia');\n",
    "INSERT INTO Pais (nome) VALUES('South Africa');\n",
    "INSERT INTO Pais (nome) VALUES('Spain');\n",
    "INSERT INTO Pais (nome) VALUES('Sweden');\n",
    "INSERT INTO Pais (nome) VALUES('Switzerland');\n",
    "INSERT INTO Pais (nome) VALUES('Thailand');\n",
    "INSERT INTO Pais (nome) VALUES('United Kingdom');\n",
    "INSERT INTO Pais (nome) VALUES('United States');\n",
    "INSERT INTO Pais (nome) VALUES('Uruguay');"
   ]
  },
  {
   "cell_type": "markdown",
   "metadata": {},
   "source": [
    "// Selecionar a quantidade de homens e mulheres que quiseram ficar anonimos"
   ]
  },
  {
   "cell_type": "code",
   "execution_count": 4,
   "metadata": {},
   "outputs": [],
   "source": [
    "SELECT COUNT(*) FROM Pessoa_Resposta R, Pessoa P where R.idPessoa=P.id and R.anonimidade='Yes' GROUP BY P.genero"
   ]
  },
  {
   "cell_type": "markdown",
   "metadata": {},
   "source": [
    "// Selecionar a interferencia do trabalho por genero"
   ]
  },
  {
   "cell_type": "code",
   "execution_count": 5,
   "metadata": {},
   "outputs": [],
   "source": [
    "SELECT COUNT(*) FROM Pessoa_Resposta R, Pessoa P where R.idPessoa=P.id and (R.interfere_trabalho='Sometimes' OR R.interfere_trabalho='Often') GROUP BY P.genero"
   ]
  },
  {
   "cell_type": "code",
   "execution_count": 6,
   "metadata": {},
   "outputs": [],
   "source": [
    "// Selecionar a interferencia do trabalho por por idade"
   ]
  },
  {
   "cell_type": "code",
   "execution_count": 7,
   "metadata": {},
   "outputs": [],
   "source": [
    "SELECT COUNT(*) FROM Pessoa_Resposta R, Pessoa P where R.idPessoa=P.id and (R.interfere_trabalho='Sometimes' OR R.interfere_trabalho='Often') GROUP BY P.idade"
   ]
  },
  {
   "cell_type": "markdown",
   "metadata": {},
   "source": [
    "// Selecionar a quantidade de pessoas que buscam tratamento por idade"
   ]
  },
  {
   "cell_type": "code",
   "execution_count": 8,
   "metadata": {},
   "outputs": [],
   "source": [
    "SELECT COUNT(*) FROM Pessoa_Resposta R, Pessoa P where R.idPessoa=P.id and R.busca_tratamento='Yes' GROUP BY P.idade"
   ]
  },
  {
   "cell_type": "markdown",
   "metadata": {},
   "source": [
    "// Selecionar a quantidade de pessoas que buscam tratamento por genero"
   ]
  },
  {
   "cell_type": "code",
   "execution_count": 9,
   "metadata": {},
   "outputs": [],
   "source": [
    "SELECT COUNT(*) FROM Pessoa_Resposta R, Pessoa P where R.idPessoa=P.id and R.busca_tratamento='Yes' GROUP BY P.genero"
   ]
  }
 ],
 "metadata": {
  "kernelspec": {
   "display_name": "SQL",
   "language": "SQL",
   "name": "sql"
  },
  "language_info": {
   "codemirror_mode": "sql",
   "file_extension": ".sql",
   "mimetype": "",
   "name": "SQL",
   "nbconverter_exporter": "",
   "version": ""
  }
 },
 "nbformat": 4,
 "nbformat_minor": 2
}
