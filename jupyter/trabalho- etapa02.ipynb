{
 "cells": [
  {
   "cell_type": "markdown",
   "metadata": {},
   "source": []
  },
  {
   "cell_type": "markdown",
   "metadata": {},
   "source": [
    "Modelo Conceitual"
   ]
  },
  {
   "cell_type": "markdown",
   "metadata": {},
   "source": [
    "Modelo Lógico\n",
    "\n",
    "PESSOA (id, idade, genero, idEmpresa, idEstado)\n",
    "idEmpresa-> Chave Estrangeira: Empresa(id)\n",
    "idEstado> Chave Estrangeira: Estado(id)\n",
    "\n",
    "PESSOA_RESPOSTA (id, idPessoa, data_hora, busca_tratamento, interfere_trabalho, conhece_opcoes, programa_saude, oferece_recursos, anonimidade, licenca_medica, mental_consequencia, fisica_consequencia, colegas_trabalho, supervisor, mental_entrevista, fisica_entrevista, mental_fisica, houve_consequencias)\n",
    "idPessoa -> Chave Estrangeira: Pessoa(id)\n",
    "\n",
    "EMPRESA(id, n_funcionarios, area_atuacao, beneficios)\n",
    "\n",
    "ESTADO(id, nome, sigla, idPais)\n",
    "idPais> Chave Estrangeira: Pais(id)\n",
    "\n",
    "PAIS(id, nome)"
   ]
  },
  {
   "cell_type": "code",
   "execution_count": null,
   "metadata": {},
   "outputs": [],
   "source": [
    "%defaultDatasource jdbc:h2:mem:db"
   ]
  },
  {
   "cell_type": "code",
   "execution_count": null,
   "metadata": {},
   "outputs": [],
   "source": [
    "DROP TABLE IF EXISTS Estado;\n",
    "CREATE TABLE Estado (\n",
    "  id VARCHAR(10) NOT NULL,\n",
    "  nome VARCHAR(50),\n",
    "  sigla VARCHAR(2),\n",
    "  idPais VARCHAR(10),\n",
    "  PRIMARY KEY(id),\n",
    "  FOREIGN KEY(idPais)\n",
    "    REFERENCES Pais(id)\n",
    "      ON DELETE NO ACTION\n",
    "      ON UPDATE NO ACTION\n",
    ");\n",
    "\n",
    "DROP TABLE IF EXISTS Pais;\n",
    "CREATE TABLE Pais (\n",
    "  id VARCHAR(10) NOT NULL,\n",
    "  nome VARCHAR(50),\n",
    "  PRIMARY KEY(id)\n",
    ");\n",
    "\n",
    "DROP TABLE IF EXISTS Empresa;\n",
    "CREATE TABLE Empresa (\n",
    "  id VARCHAR(10) NOT NULL,\n",
    "  n_funcionarios SMALLINT,\n",
    "  area_atuacao VARCHAR(50),\n",
    "  beneficios VARCHAR(50),\n",
    "  PRIMARY KEY(id)\n",
    ") AS SELECT\n",
    "\n",
    "FROM CSVREAD('');\n",
    "\n",
    "DROP TABLE IF EXISTS Pessoa;\n",
    "CREATE TABLE Pessoa (\n",
    "  id VARCHAR(10) NOT NULL,\n",
    "  genero VARCHAR(10),\n",
    "  idade SMALLINT,\n",
    "  idEmpresa VARCHAR(10),\n",
    "  idEstado VARCHAR(10),\n",
    "  PRIMARY KEY(id),\n",
    "  FOREIGN KEY(idEmpresa)\n",
    "    REFERENCES Empresa(id)\n",
    "      ON DELETE NO ACTION\n",
    "      ON UPDATE NO ACTION,\n",
    "  FOREIGN KEY(idEstado)\n",
    "    REFERENCES Estado(id)\n",
    "      ON DELETE NO ACTION\n",
    "      ON UPDATE NO ACTION\n",
    ") AS SELECT\n",
    "\n",
    "FROM CSVREAD('');\n",
    "\n",
    "DROP TABLE IF EXISTS Pessoa_Resposta;\n",
    "CREATE TABLE Pessoa_Resposta (\n",
    "  id VARCHAR(10) NOT NULL,\n",
    "  idPessoa VARCHAR(10) NOT NULL,\n",
    "  data_hora VARCHAR(10),\n",
    "  busca_tratamento VARCHAR(10),\n",
    "  interfere_trabalho VARCHAR(10),\n",
    "  conhece_opcoes VARCHAR(10),\n",
    "  programa_saude VARCHAR(10),\n",
    "  oferece_recursos VARCHAR(10),\n",
    "  anonimidade VARCHAR(10),\n",
    "  licenca_medica VARCHAR(10),\n",
    "  mental_consequencia VARCHAR(10),\n",
    "  fisica_consequencia VARCHAR(10),\n",
    "  colegas_trabalho VARCHAR(10),\n",
    "  supervisor VARCHAR(10),\n",
    "  mental_entrevista VARCHAR(10),\n",
    "  fisica_entrevista VARCHAR(10),\n",
    "  mental_fisica VARCHAR(10),\n",
    "  houve_consequencias VARCHAR(10),\n",
    "  PRIMARY KEY(id),\n",
    "  FOREIGN KEY(idPessoa)\n",
    "    REFERENCES Pessoa(id)\n",
    "      ON DELETE NO ACTION\n",
    "      ON UPDATE NO ACTION,\n",
    ") AS SELECT\n",
    "\n",
    "FROM CSVREAD('');\n",
    "\n",
    "\n"
   ]
  },
  {
   "cell_type": "code",
   "execution_count": null,
   "metadata": {},
   "outputs": [],
   "source": [
    "INSERT INTO Pais (id, nome) VALUES(1,);\n",
    "INSERT INTO Pais (id, nome) VALUES(1,);\n",
    "INSERT INTO Pais (id, nome) VALUES(1,);"
   ]
  }
 ],
 "metadata": {
  "kernelspec": {
   "display_name": "SQL",
   "language": "SQL",
   "name": "sql"
  },
  "language_info": {
   "codemirror_mode": "sql",
   "file_extension": ".sql",
   "mimetype": "",
   "name": "SQL",
   "nbconverter_exporter": "",
   "version": ""
  }
 },
 "nbformat": 4,
 "nbformat_minor": 2
}
