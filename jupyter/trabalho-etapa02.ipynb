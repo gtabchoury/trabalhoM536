{
 "cells": [
  {
   "cell_type": "markdown",
   "metadata": {},
   "source": []
  },
  {
   "cell_type": "markdown",
   "metadata": {},
   "source": [
    "Modelo Conceitual\n",
    "<img src=\"https://github.com/gtabchoury/trabalhoMC536/blob/master/documentos/Modelo%20Conceitual.png\"><img>"
   ]
  },
  {
   "cell_type": "markdown",
   "metadata": {},
   "source": [
    "Modelo Lógico\n",
    "\n",
    "PESSOA (id, idade, genero, estado, idEmpresa)\n",
    "idEmpresa-> Chave Estrangeira: Empresa(id)\n",
    "estado> Chave Estrangeira: Estado(sigla)\n",
    "\n",
    "PESSOA_RESPOSTA (id, idPessoa, data_hora, busca_tratamento, interfere_trabalho, conhece_opcoes, programa_saude, oferece_recursos, anonimidade, licenca_medica, mental_consequencia, fisica_consequencia, colegas_trabalho, supervisor, mental_entrevista, fisica_entrevista, mental_fisica, houve_consequencias)\n",
    "idPessoa -> Chave Estrangeira: Pessoa(id)\n",
    "\n",
    "EMPRESA(id, n_funcionarios, area_atuacao, beneficios)\n",
    "\n",
    "ESTADO(sigla, pais)\n",
    "pais> Chave Estrangeira: Pais(nome)\n",
    "\n",
    "PAIS(nome)"
   ]
  },
  {
   "cell_type": "code",
   "execution_count": 1,
   "metadata": {},
   "outputs": [],
   "source": [
    "%defaultDatasource jdbc:h2:mem:db"
   ]
  },
  {
   "cell_type": "code",
   "execution_count": 2,
   "metadata": {},
   "outputs": [],
   "source": [
    "DROP TABLE IF EXISTS Pessoa;\n",
    "CREATE TABLE Pessoa (\n",
    "  id VARCHAR(10) NOT NULL,\n",
    "  idade SMALLINT,\n",
    "  genero VARCHAR(20),\n",
    "  pais VARCHAR(50),\n",
    "  estado VARCHAR(10),\n",
    "  PRIMARY KEY(id),\n",
    ") AS SELECT id, idade, genero, pais, estado \n",
    "FROM CSVREAD('pessoa.csv');\n",
    "\n",
    "DROP TABLE IF EXISTS Pessoa_Resposta;\n",
    "CREATE TABLE Pessoa_Resposta (\n",
    "  idPessoa VARCHAR(10) NOT NULL,\n",
    "  data_hora Timestamp,\n",
    "  trabalho_proprio VARCHAR(10),\n",
    "  historico_familiar VARCHAR(10),\n",
    "  tratamento VARCHAR(10),\n",
    "  interferencia_trabalho VARCHAR(10),\n",
    "  trabalho_remoto VARCHAR(10),\n",
    "  empresa_ti VARCHAR(10),\n",
    "  conhece_opcoes VARCHAR(10),\n",
    "  programa_saude VARCHAR(10),\n",
    "  busca_tratamento VARCHAR(10),\n",
    "  anonimidade VARCHAR(10),\n",
    "  licenca_medica VARCHAR(20),\n",
    "  mental_consequencia VARCHAR(10),\n",
    "  fisica_consequencia VARCHAR(10),\n",
    "  mental_entrevista VARCHAR(10),\n",
    "  fisica_entrevista VARCHAR(10),\n",
    "  mental_fisica VARCHAR(10),\n",
    "  houve_consequencias VARCHAR(10),\n",
    "  PRIMARY KEY(idPessoa),\n",
    "  FOREIGN KEY(idPessoa)\n",
    "    REFERENCES Pessoa(id)\n",
    "      ON DELETE NO ACTION\n",
    "      ON UPDATE NO ACTION,\n",
    ") AS SELECT idPessoa, data_hora, trabalho_proprio, historico_familiar, tratamento, interferencia_trabalho, trabalho_remoto, \n",
    "empresa_ti, conhece_opcoes, programa_saude, busca_tratamento, anonimidade, licenca_medica, mental_consequencia, fisica_consequencia,\n",
    "mental_entrevista, fisica_entrevista, mental_fisica, houve_consequencias \n",
    "FROM CSVREAD('resposta.csv');\n"
   ]
  },
  {
   "cell_type": "markdown",
   "metadata": {},
   "source": [
    "// Selecionar a quantidade de anonimos por genero"
   ]
  },
  {
   "cell_type": "code",
   "execution_count": 3,
   "metadata": {},
   "outputs": [
    {
     "data": {
      "application/vnd.jupyter.widget-view+json": {
       "model_id": "3672e56f-e49d-41e8-a559-47f27dcd0663",
       "version_major": 2,
       "version_minor": 0
      },
      "method": "display_data"
     },
     "metadata": {},
     "output_type": "display_data"
    }
   ],
   "source": [
    "SELECT P.genero, COUNT(*) FROM Pessoa_Resposta R, Pessoa P where R.idPessoa=P.id and R.anonimidade='Yes' GROUP BY P.genero"
   ]
  },
  {
   "cell_type": "markdown",
   "metadata": {},
   "source": [
    "// Selecionar a interferencia do trabalho por genero"
   ]
  },
  {
   "cell_type": "code",
   "execution_count": 4,
   "metadata": {},
   "outputs": [
    {
     "data": {
      "application/vnd.jupyter.widget-view+json": {
       "model_id": "85257a2f-d696-4401-9827-e8b868724556",
       "version_major": 2,
       "version_minor": 0
      },
      "method": "display_data"
     },
     "metadata": {},
     "output_type": "display_data"
    }
   ],
   "source": [
    "SELECT P.genero,COUNT(*) FROM Pessoa_Resposta R, Pessoa P where R.idPessoa=P.id and (R.interferencia_trabalho='Sometimes' OR R.interferencia_trabalho='Often') GROUP BY P.genero"
   ]
  },
  {
   "cell_type": "code",
   "execution_count": 5,
   "metadata": {},
   "outputs": [],
   "source": [
    "// Selecionar a interferencia do trabalho por por idade"
   ]
  },
  {
   "cell_type": "code",
   "execution_count": 6,
   "metadata": {},
   "outputs": [
    {
     "data": {
      "application/vnd.jupyter.widget-view+json": {
       "model_id": "848943d2-184d-4470-b81c-ed0aed45e0f0",
       "version_major": 2,
       "version_minor": 0
      },
      "method": "display_data"
     },
     "metadata": {},
     "output_type": "display_data"
    }
   ],
   "source": [
    "SELECT P.idade, COUNT(*) FROM Pessoa_Resposta R, Pessoa P where R.idPessoa=P.id and (R.interferencia_trabalho='Sometimes' OR R.interferencia_trabalho='Often') GROUP BY P.idade"
   ]
  },
  {
   "cell_type": "markdown",
   "metadata": {},
   "source": [
    "// Selecionar a quantidade de pessoas que buscam tratamento por idade"
   ]
  },
  {
   "cell_type": "code",
   "execution_count": 7,
   "metadata": {},
   "outputs": [
    {
     "data": {
      "application/vnd.jupyter.widget-view+json": {
       "model_id": "3733b484-8705-4b9a-b818-1357aefc80ce",
       "version_major": 2,
       "version_minor": 0
      },
      "method": "display_data"
     },
     "metadata": {},
     "output_type": "display_data"
    }
   ],
   "source": [
    "SELECT P.idade, COUNT(*) FROM Pessoa_Resposta R, Pessoa P where R.idPessoa=P.id and R.busca_tratamento='Yes' GROUP BY P.idade"
   ]
  },
  {
   "cell_type": "markdown",
   "metadata": {},
   "source": [
    "// Selecionar a quantidade de pessoas que buscam tratamento por genero"
   ]
  },
  {
   "cell_type": "code",
   "execution_count": 8,
   "metadata": {},
   "outputs": [
    {
     "data": {
      "application/vnd.jupyter.widget-view+json": {
       "model_id": "abca6ffb-2b44-43d9-9186-2c68a9ea68b6",
       "version_major": 2,
       "version_minor": 0
      },
      "method": "display_data"
     },
     "metadata": {},
     "output_type": "display_data"
    }
   ],
   "source": [
    "SELECT P.genero, COUNT(*) FROM Pessoa_Resposta R, Pessoa P where R.idPessoa=P.id and R.busca_tratamento='Yes' GROUP BY P.genero"
   ]
  },
  {
   "cell_type": "code",
   "execution_count": 9,
   "metadata": {},
   "outputs": [
    {
     "data": {
      "text/plain": [
       "1256"
      ]
     },
     "execution_count": 9,
     "metadata": {},
     "output_type": "execute_result"
    }
   ],
   "source": []
  },
  {
   "cell_type": "code",
   "execution_count": null,
   "metadata": {},
   "outputs": [],
   "source": []
  }
 ],
 "metadata": {
  "kernelspec": {
   "display_name": "SQL",
   "language": "SQL",
   "name": "sql"
  },
  "language_info": {
   "codemirror_mode": "sql",
   "file_extension": ".sql",
   "mimetype": "",
   "name": "SQL",
   "nbconverter_exporter": "",
   "version": ""
  }
 },
 "nbformat": 4,
 "nbformat_minor": 2
}
