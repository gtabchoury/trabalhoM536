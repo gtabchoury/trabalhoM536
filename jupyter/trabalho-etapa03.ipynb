{
 "cells": [
  {
   "cell_type": "markdown",
   "metadata": {},
   "source": []
  },
  {
   "cell_type": "markdown",
   "metadata": {},
   "source": [
    "Modelo Conceitual\n",
    "<img src=\"https://github.com/gtabchoury/trabalhoMC536/blob/master/documentos/Modelo%20Conceitual.png\"><img>"
   ]
  },
  {
   "cell_type": "markdown",
   "metadata": {},
   "source": [
    "Modelo Lógico\n",
    "\n",
    "PESSOA (id, idade, genero, estado, idEmpresa)\n",
    "idEmpresa-> Chave Estrangeira: Empresa(id)\n",
    "estado> Chave Estrangeira: Estado(sigla)\n",
    "\n",
    "PESSOA_RESPOSTA (id, idPessoa, data_hora, busca_tratamento, interfere_trabalho, conhece_opcoes, programa_saude, oferece_recursos, anonimidade, licenca_medica, mental_consequencia, fisica_consequencia, colegas_trabalho, supervisor, mental_entrevista, fisica_entrevista, mental_fisica, houve_consequencias)\n",
    "idPessoa -> Chave Estrangeira: Pessoa(id)\n",
    "\n",
    "EMPRESA(id, n_funcionarios, area_atuacao, beneficios)\n",
    "\n",
    "ESTADO(sigla, pais)\n",
    "pais> Chave Estrangeira: Pais(nome)\n",
    "\n",
    "PAIS(nome)"
   ]
  },
  {
   "cell_type": "code",
   "execution_count": 1,
   "metadata": {},
   "outputs": [],
   "source": [
    "%defaultDatasource jdbc:h2:mem:db"
   ]
  },
  {
   "cell_type": "code",
   "execution_count": 2,
   "metadata": {},
   "outputs": [],
   "source": [
    "DROP TABLE IF EXISTS Pessoa;\n",
    "CREATE TABLE Pessoa (\n",
    "  id VARCHAR(10) NOT NULL,\n",
    "  idade SMALLINT,\n",
    "  genero VARCHAR(20),\n",
    "  pais VARCHAR(50),\n",
    "  estado VARCHAR(10),\n",
    "  PRIMARY KEY(id),\n",
    ") AS SELECT id, idade, genero, pais, estado \n",
    "FROM CSVREAD('pessoa.csv');\n",
    "\n",
    "DROP TABLE IF EXISTS Pessoa_Resposta;\n",
    "CREATE TABLE Pessoa_Resposta (\n",
    "  idPessoa VARCHAR(10) NOT NULL,\n",
    "  data_hora Timestamp,\n",
    "  trabalho_proprio VARCHAR(10),\n",
    "  historico_familiar VARCHAR(10),\n",
    "  tratamento VARCHAR(10),\n",
    "  interferencia_trabalho VARCHAR(10),\n",
    "  trabalho_remoto VARCHAR(10),\n",
    "  empresa_ti VARCHAR(10),\n",
    "  conhece_opcoes VARCHAR(10),\n",
    "  programa_saude VARCHAR(10),\n",
    "  busca_tratamento VARCHAR(10),\n",
    "  anonimidade VARCHAR(10),\n",
    "  licenca_medica VARCHAR(20),\n",
    "  mental_consequencia VARCHAR(10),\n",
    "  fisica_consequencia VARCHAR(10),\n",
    "  mental_entrevista VARCHAR(10),\n",
    "  fisica_entrevista VARCHAR(10),\n",
    "  mental_fisica VARCHAR(10),\n",
    "  houve_consequencias VARCHAR(10),\n",
    "  PRIMARY KEY(idPessoa),\n",
    "  FOREIGN KEY(idPessoa)\n",
    "    REFERENCES Pessoa(id)\n",
    "      ON DELETE NO ACTION\n",
    "      ON UPDATE NO ACTION,\n",
    ") AS SELECT idPessoa, data_hora, trabalho_proprio, historico_familiar, tratamento, interferencia_trabalho, trabalho_remoto, \n",
    "empresa_ti, conhece_opcoes, programa_saude, busca_tratamento, anonimidade, licenca_medica, mental_consequencia, fisica_consequencia,\n",
    "mental_entrevista, fisica_entrevista, mental_fisica, houve_consequencias \n",
    "FROM CSVREAD('resposta.csv');\n"
   ]
  },
  {
   "cell_type": "code",
   "execution_count": 3,
   "metadata": {},
   "outputs": [],
   "source": [
    "delete from Pessoa_Resposta where idPessoa = 388;\n",
    "delete from Pessoa where id = 388"
   ]
  },
  {
   "cell_type": "markdown",
   "metadata": {},
   "source": [
    "// Selecionar a quantidade de entrevistados por genero"
   ]
  },
  {
   "cell_type": "code",
   "execution_count": 4,
   "metadata": {},
   "outputs": [
    {
     "data": {
      "application/vnd.jupyter.widget-view+json": {
       "model_id": "28e3edca-4693-4fc5-a4cb-76dcb5c187ec",
       "version_major": 2,
       "version_minor": 0
      },
      "method": "display_data"
     },
     "metadata": {},
     "output_type": "display_data"
    }
   ],
   "source": [
    "SELECT P.genero, COUNT(*)\n",
    "FROM Pessoa_Resposta R, Pessoa P \n",
    "WHERE R.idPessoa=P.id  \n",
    "GROUP BY P.genero \n",
    "ORDER BY genero"
   ]
  },
  {
   "cell_type": "markdown",
   "metadata": {},
   "source": [
    "// Selecionar a interferencia do trabalho por genero"
   ]
  },
  {
   "cell_type": "code",
   "execution_count": 5,
   "metadata": {},
   "outputs": [
    {
     "data": {
      "application/vnd.jupyter.widget-view+json": {
       "model_id": "696cb561-73d0-4bbc-a1f4-aca989cd58a2",
       "version_major": 2,
       "version_minor": 0
      },
      "method": "display_data"
     },
     "metadata": {},
     "output_type": "display_data"
    }
   ],
   "source": [
    "SELECT genero, COUNT(*) quantidade\n",
    "FROM Pessoa, Pessoa_Resposta\n",
    "WHERE idPessoa=id \n",
    "AND (interferencia_trabalho='Sometimes' OR interferencia_trabalho='Often') \n",
    "GROUP BY genero"
   ]
  },
  {
   "cell_type": "code",
   "execution_count": 6,
   "metadata": {},
   "outputs": [
    {
     "data": {
      "application/vnd.jupyter.widget-view+json": {
       "model_id": "a07fec02-4aa5-4ccc-b733-5c2c56d9e0ae",
       "version_major": 2,
       "version_minor": 0
      },
      "method": "display_data"
     },
     "metadata": {},
     "output_type": "display_data"
    }
   ],
   "source": [
    "SELECT T.genero, T.total, I.quantidade, ROUND((CAST(I.quantidade as double)/CAST(T.total as double))*100,1) porcentagem\n",
    "FROM \n",
    "    (SELECT genero, COUNT(*) total\n",
    "    FROM Pessoa_Resposta, Pessoa \n",
    "    WHERE idPessoa=id  \n",
    "    GROUP BY genero) T,\n",
    "    (SELECT genero, COUNT(*) quantidade\n",
    "    FROM Pessoa, Pessoa_Resposta\n",
    "    WHERE idPessoa=id \n",
    "    AND (interferencia_trabalho='Sometimes' OR interferencia_trabalho='Often') \n",
    "    GROUP BY genero) I\n",
    "WHERE T.genero = I.genero\n",
    "    "
   ]
  },
  {
   "cell_type": "markdown",
   "metadata": {},
   "source": [
    "// Descobrir se pessoas que cuidam do próprio negócio buscam mais tratamento que as outras"
   ]
  },
  {
   "cell_type": "code",
   "execution_count": 7,
   "metadata": {},
   "outputs": [
    {
     "data": {
      "application/vnd.jupyter.widget-view+json": {
       "model_id": "d7bc877c-983d-4228-98b9-89817c6c0a18",
       "version_major": 2,
       "version_minor": 0
      },
      "method": "display_data"
     },
     "metadata": {},
     "output_type": "display_data"
    }
   ],
   "source": [
    "SELECT trabalho_proprio, tratamento,  count(*) \n",
    "FROM Pessoa_Resposta\n",
    "WHERE trabalho_proprio <> 'NA'\n",
    "GROUP BY trabalho_proprio, tratamento\n",
    "ORDER BY trabalho_proprio"
   ]
  },
  {
   "cell_type": "code",
   "execution_count": 8,
   "metadata": {},
   "outputs": [],
   "source": [
    "// Selecionar a interferencia do trabalho por por idade"
   ]
  },
  {
   "cell_type": "code",
   "execution_count": 9,
   "metadata": {},
   "outputs": [
    {
     "data": {
      "application/vnd.jupyter.widget-view+json": {
       "model_id": "50a9776f-7b68-4639-bcc6-334732ca9f23",
       "version_major": 2,
       "version_minor": 0
      },
      "method": "display_data"
     },
     "metadata": {},
     "output_type": "display_data"
    }
   ],
   "source": [
    "SELECT P.idade, COUNT(*) FROM Pessoa_Resposta R, Pessoa P where R.idPessoa=P.id and (R.interferencia_trabalho='Sometimes' OR R.interferencia_trabalho='Often') GROUP BY P.idade"
   ]
  },
  {
   "cell_type": "markdown",
   "metadata": {},
   "source": [
    "// Porcentagem de pessoas que trabalham em TI as quais acreditam que o seus chefes dão importância para a saúde mental"
   ]
  },
  {
   "cell_type": "code",
   "execution_count": 28,
   "metadata": {},
   "outputs": [
    {
     "data": {
      "application/vnd.jupyter.widget-view+json": {
       "model_id": "b88948f5-6720-4f60-8ba1-577b0da13d08",
       "version_major": 2,
       "version_minor": 0
      },
      "method": "display_data"
     },
     "metadata": {},
     "output_type": "display_data"
    }
   ],
   "source": [
    "SELECT ROUND((\n",
    "    CAST((SELECT COUNT(*)\n",
    "    FROM Pessoa_Resposta\n",
    "    WHERE mental_fisica='Yes' \n",
    "    AND empresa_ti='Yes') as double) /\n",
    "    CAST(( SELECT COUNT(*)\n",
    "    FROM Pessoa_Resposta \n",
    "    WHERE empresa_ti='Yes') as double))*100,1) Sim,\n",
    "    ROUND((\n",
    "    CAST((SELECT COUNT(*)\n",
    "    FROM Pessoa_Resposta\n",
    "    WHERE mental_fisica='No' \n",
    "    AND empresa_ti='Yes') as double) /\n",
    "    CAST(( SELECT COUNT(*)\n",
    "    FROM Pessoa_Resposta \n",
    "    WHERE empresa_ti='Yes') as double))*100,1) Nao, \n",
    "    ROUND((\n",
    "    CAST((SELECT COUNT(*)\n",
    "    FROM Pessoa_Resposta\n",
    "    WHERE mental_fisica='Don''t know'\n",
    "    AND empresa_ti='Yes') as double) /\n",
    "    CAST(( SELECT COUNT(*)\n",
    "    FROM Pessoa_Resposta \n",
    "    WHERE empresa_ti='Yes') as double))*100,1) Nao_sei"
   ]
  },
  {
   "cell_type": "markdown",
   "metadata": {},
   "source": [
    "// Selecionar a quantidade de pessoas que buscam tratamento por genero"
   ]
  },
  {
   "cell_type": "code",
   "execution_count": 11,
   "metadata": {},
   "outputs": [
    {
     "data": {
      "application/vnd.jupyter.widget-view+json": {
       "model_id": "8c5465a5-fe24-4ed2-a518-ffdbd3314f13",
       "version_major": 2,
       "version_minor": 0
      },
      "method": "display_data"
     },
     "metadata": {},
     "output_type": "display_data"
    }
   ],
   "source": [
    "SELECT P.genero, COUNT(*) FROM Pessoa_Resposta R, Pessoa P where R.idPessoa=P.id and R.busca_tratamento='Yes' GROUP BY P.genero"
   ]
  },
  {
   "cell_type": "code",
   "execution_count": null,
   "metadata": {},
   "outputs": [],
   "source": []
  },
  {
   "cell_type": "code",
   "execution_count": null,
   "metadata": {},
   "outputs": [],
   "source": []
  }
 ],
 "metadata": {
  "kernelspec": {
   "display_name": "SQL",
   "language": "SQL",
   "name": "sql"
  },
  "language_info": {
   "codemirror_mode": "sql",
   "file_extension": ".sql",
   "mimetype": "",
   "name": "SQL",
   "nbconverter_exporter": "",
   "version": ""
  }
 },
 "nbformat": 4,
 "nbformat_minor": 2
}
