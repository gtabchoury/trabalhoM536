{
 "cells": [
  {
   "cell_type": "code",
   "execution_count": 1,
   "metadata": {},
   "outputs": [
    {
     "data": {
      "text/html": [
       "<div class=\"krn-spql\"><div class=\"magic\">Endpoint set to: http://id.nlm.nih.gov/mesh/sparql</div><div class=\"magic\">Display: table</div><div class=\"magic\">Result maximum size: unlimited</div></div>"
      ],
      "text/plain": [
       "Endpoint set to: http://id.nlm.nih.gov/mesh/sparql\n",
       "Display: table\n",
       "Result maximum size: unlimited\n"
      ]
     },
     "metadata": {},
     "output_type": "display_data"
    }
   ],
   "source": [
    "%endpoint http://id.nlm.nih.gov/mesh/sparql\n",
    "%display table\n",
    "%show all"
   ]
  },
  {
   "cell_type": "markdown",
   "metadata": {},
   "source": [
    "# SPARQL"
   ]
  },
  {
   "cell_type": "code",
   "execution_count": 30,
   "metadata": {},
   "outputs": [
    {
     "data": {
      "text/html": [
       "<div class=\"krn-spql\"><table><tr class=hdr><th>p</th></tr><tr class=odd><td class=val><a href=\"http://id.nlm.nih.gov/mesh/vocab#abbreviation\" target=\"_other\">http://id.nlm.nih.gov/mesh/vocab#abbreviation</a></td></tr><tr class=even><td class=val><a href=\"http://id.nlm.nih.gov/mesh/vocab#active\" target=\"_other\">http://id.nlm.nih.gov/mesh/vocab#active</a></td></tr><tr class=odd><td class=val><a href=\"http://id.nlm.nih.gov/mesh/vocab#allowableQualifier\" target=\"_other\">http://id.nlm.nih.gov/mesh/vocab#allowableQualifier</a></td></tr><tr class=even><td class=val><a href=\"http://id.nlm.nih.gov/mesh/vocab#altLabel\" target=\"_other\">http://id.nlm.nih.gov/mesh/vocab#altLabel</a></td></tr><tr class=odd><td class=val><a href=\"http://id.nlm.nih.gov/mesh/vocab#annotation\" target=\"_other\">http://id.nlm.nih.gov/mesh/vocab#annotation</a></td></tr><tr class=even><td class=val><a href=\"http://id.nlm.nih.gov/mesh/vocab#broaderConcept\" target=\"_other\">http://id.nlm.nih.gov/mesh/vocab#broaderConcept</a></td></tr><tr class=odd><td class=val><a href=\"http://id.nlm.nih.gov/mesh/vocab#broaderDescriptor\" target=\"_other\">http://id.nlm.nih.gov/mesh/vocab#broaderDescriptor</a></td></tr><tr class=even><td class=val><a href=\"http://id.nlm.nih.gov/mesh/vocab#broaderQualifier\" target=\"_other\">http://id.nlm.nih.gov/mesh/vocab#broaderQualifier</a></td></tr><tr class=odd><td class=val><a href=\"http://id.nlm.nih.gov/mesh/vocab#casn1_label\" target=\"_other\">http://id.nlm.nih.gov/mesh/vocab#casn1_label</a></td></tr><tr class=even><td class=val><a href=\"http://id.nlm.nih.gov/mesh/vocab#concept\" target=\"_other\">http://id.nlm.nih.gov/mesh/vocab#concept</a></td></tr><tr class=odd><td class=val><a href=\"http://id.nlm.nih.gov/mesh/vocab#considerAlso\" target=\"_other\">http://id.nlm.nih.gov/mesh/vocab#considerAlso</a></td></tr><tr class=even><td class=val><a href=\"http://id.nlm.nih.gov/mesh/vocab#dateCreated\" target=\"_other\">http://id.nlm.nih.gov/mesh/vocab#dateCreated</a></td></tr><tr class=odd><td class=val><a href=\"http://id.nlm.nih.gov/mesh/vocab#dateEstablished\" target=\"_other\">http://id.nlm.nih.gov/mesh/vocab#dateEstablished</a></td></tr><tr class=even><td class=val><a href=\"http://id.nlm.nih.gov/mesh/vocab#dateRevised\" target=\"_other\">http://id.nlm.nih.gov/mesh/vocab#dateRevised</a></td></tr><tr class=odd><td class=val><a href=\"http://id.nlm.nih.gov/mesh/vocab#entryVersion\" target=\"_other\">http://id.nlm.nih.gov/mesh/vocab#entryVersion</a></td></tr><tr class=even><td class=val><a href=\"http://id.nlm.nih.gov/mesh/vocab#frequency\" target=\"_other\">http://id.nlm.nih.gov/mesh/vocab#frequency</a></td></tr><tr class=odd><td class=val><a href=\"http://id.nlm.nih.gov/mesh/vocab#hasDescriptor\" target=\"_other\">http://id.nlm.nih.gov/mesh/vocab#hasDescriptor</a></td></tr><tr class=even><td class=val><a href=\"http://id.nlm.nih.gov/mesh/vocab#hasQualifier\" target=\"_other\">http://id.nlm.nih.gov/mesh/vocab#hasQualifier</a></td></tr><tr class=odd><td class=val><a href=\"http://id.nlm.nih.gov/mesh/vocab#historyNote\" target=\"_other\">http://id.nlm.nih.gov/mesh/vocab#historyNote</a></td></tr><tr class=even><td class=val><a href=\"http://id.nlm.nih.gov/mesh/vocab#identifier\" target=\"_other\">http://id.nlm.nih.gov/mesh/vocab#identifier</a></td></tr><tr class=odd><td class=val><a href=\"http://id.nlm.nih.gov/mesh/vocab#indexerConsiderAlso\" target=\"_other\">http://id.nlm.nih.gov/mesh/vocab#indexerConsiderAlso</a></td></tr><tr class=even><td class=val><a href=\"http://id.nlm.nih.gov/mesh/vocab#lastActiveYear\" target=\"_other\">http://id.nlm.nih.gov/mesh/vocab#lastActiveYear</a></td></tr><tr class=odd><td class=val><a href=\"http://id.nlm.nih.gov/mesh/vocab#lexicalTag\" target=\"_other\">http://id.nlm.nih.gov/mesh/vocab#lexicalTag</a></td></tr><tr class=even><td class=val><a href=\"http://id.nlm.nih.gov/mesh/vocab#mappedTo\" target=\"_other\">http://id.nlm.nih.gov/mesh/vocab#mappedTo</a></td></tr><tr class=odd><td class=val><a href=\"http://id.nlm.nih.gov/mesh/vocab#narrowerConcept\" target=\"_other\">http://id.nlm.nih.gov/mesh/vocab#narrowerConcept</a></td></tr><tr class=even><td class=val><a href=\"http://id.nlm.nih.gov/mesh/vocab#nlmClassificationNumber\" target=\"_other\">http://id.nlm.nih.gov/mesh/vocab#nlmClassificationNumber</a></td></tr><tr class=odd><td class=val><a href=\"http://id.nlm.nih.gov/mesh/vocab#note\" target=\"_other\">http://id.nlm.nih.gov/mesh/vocab#note</a></td></tr><tr class=even><td class=val><a href=\"http://id.nlm.nih.gov/mesh/vocab#onlineNote\" target=\"_other\">http://id.nlm.nih.gov/mesh/vocab#onlineNote</a></td></tr><tr class=odd><td class=val><a href=\"http://id.nlm.nih.gov/mesh/vocab#parentTreeNumber\" target=\"_other\">http://id.nlm.nih.gov/mesh/vocab#parentTreeNumber</a></td></tr><tr class=even><td class=val><a href=\"http://id.nlm.nih.gov/mesh/vocab#pharmacologicalAction\" target=\"_other\">http://id.nlm.nih.gov/mesh/vocab#pharmacologicalAction</a></td></tr><tr class=odd><td class=val><a href=\"http://id.nlm.nih.gov/mesh/vocab#prefLabel\" target=\"_other\">http://id.nlm.nih.gov/mesh/vocab#prefLabel</a></td></tr><tr class=even><td class=val><a href=\"http://id.nlm.nih.gov/mesh/vocab#preferredConcept\" target=\"_other\">http://id.nlm.nih.gov/mesh/vocab#preferredConcept</a></td></tr><tr class=odd><td class=val><a href=\"http://id.nlm.nih.gov/mesh/vocab#preferredMappedTo\" target=\"_other\">http://id.nlm.nih.gov/mesh/vocab#preferredMappedTo</a></td></tr><tr class=even><td class=val><a href=\"http://id.nlm.nih.gov/mesh/vocab#preferredTerm\" target=\"_other\">http://id.nlm.nih.gov/mesh/vocab#preferredTerm</a></td></tr><tr class=odd><td class=val><a href=\"http://id.nlm.nih.gov/mesh/vocab#previousIndexing\" target=\"_other\">http://id.nlm.nih.gov/mesh/vocab#previousIndexing</a></td></tr><tr class=even><td class=val><a href=\"http://id.nlm.nih.gov/mesh/vocab#publicMeSHNote\" target=\"_other\">http://id.nlm.nih.gov/mesh/vocab#publicMeSHNote</a></td></tr><tr class=odd><td class=val><a href=\"http://id.nlm.nih.gov/mesh/vocab#registryNumber\" target=\"_other\">http://id.nlm.nih.gov/mesh/vocab#registryNumber</a></td></tr><tr class=even><td class=val><a href=\"http://id.nlm.nih.gov/mesh/vocab#relatedConcept\" target=\"_other\">http://id.nlm.nih.gov/mesh/vocab#relatedConcept</a></td></tr><tr class=odd><td class=val><a href=\"http://id.nlm.nih.gov/mesh/vocab#relatedRegistryNumber\" target=\"_other\">http://id.nlm.nih.gov/mesh/vocab#relatedRegistryNumber</a></td></tr><tr class=even><td class=val><a href=\"http://id.nlm.nih.gov/mesh/vocab#scopeNote\" target=\"_other\">http://id.nlm.nih.gov/mesh/vocab#scopeNote</a></td></tr><tr class=odd><td class=val><a href=\"http://id.nlm.nih.gov/mesh/vocab#seeAlso\" target=\"_other\">http://id.nlm.nih.gov/mesh/vocab#seeAlso</a></td></tr><tr class=even><td class=val><a href=\"http://id.nlm.nih.gov/mesh/vocab#sortVersion\" target=\"_other\">http://id.nlm.nih.gov/mesh/vocab#sortVersion</a></td></tr><tr class=odd><td class=val><a href=\"http://id.nlm.nih.gov/mesh/vocab#source\" target=\"_other\">http://id.nlm.nih.gov/mesh/vocab#source</a></td></tr><tr class=even><td class=val><a href=\"http://id.nlm.nih.gov/mesh/vocab#term\" target=\"_other\">http://id.nlm.nih.gov/mesh/vocab#term</a></td></tr><tr class=odd><td class=val><a href=\"http://id.nlm.nih.gov/mesh/vocab#thesaurusID\" target=\"_other\">http://id.nlm.nih.gov/mesh/vocab#thesaurusID</a></td></tr><tr class=even><td class=val><a href=\"http://id.nlm.nih.gov/mesh/vocab#treeNumber\" target=\"_other\">http://id.nlm.nih.gov/mesh/vocab#treeNumber</a></td></tr><tr class=odd><td class=val><a href=\"http://id.nlm.nih.gov/mesh/vocab#useInstead\" target=\"_other\">http://id.nlm.nih.gov/mesh/vocab#useInstead</a></td></tr><tr class=even><td class=val><a href=\"http://www.w3.org/1999/02/22-rdf-syntax-ns#type\" target=\"_other\">http://www.w3.org/1999/02/22-rdf-syntax-ns#type</a></td></tr><tr class=odd><td class=val><a href=\"http://www.w3.org/2000/01/rdf-schema#label\" target=\"_other\">http://www.w3.org/2000/01/rdf-schema#label</a></td></tr></table><div class=\"tinfo\">Total: 49, Shown: 49</div></div>"
      ]
     },
     "metadata": {},
     "output_type": "display_data"
    }
   ],
   "source": [
    "PREFIX rdf: <http://www.w3.org/1999/02/22-rdf-syntax-ns#>\n",
    "PREFIX rdfs: <http://www.w3.org/2000/01/rdf-schema#>\n",
    "PREFIX xsd: <http://www.w3.org/2001/XMLSchema#>\n",
    "PREFIX owl: <http://www.w3.org/2002/07/owl#>\n",
    "PREFIX meshv: <http://id.nlm.nih.gov/mesh/vocab#>\n",
    "PREFIX mesh: <http://id.nlm.nih.gov/mesh/>\n",
    "PREFIX mesh2015: <http://id.nlm.nih.gov/mesh/2015/>\n",
    "PREFIX mesh2016: <http://id.nlm.nih.gov/mesh/2016/>\n",
    "PREFIX mesh2017: <http://id.nlm.nih.gov/mesh/2017/>\n",
    "PREFIX mesh2018: <http://id.nlm.nih.gov/mesh/2018/>\n",
    "\n",
    "SELECT DISTINCT ?p\n",
    "FROM <http://id.nlm.nih.gov/mesh>\n",
    "WHERE {\n",
    "  ?s ?p ?o\n",
    "} \n",
    "ORDER BY ?p \n"
   ]
  },
  {
   "cell_type": "markdown",
   "metadata": {},
   "source": [
    "## Tipos de transtornos de ansiedade"
   ]
  },
  {
   "cell_type": "code",
   "execution_count": 75,
   "metadata": {},
   "outputs": [
    {
     "data": {
      "text/html": [
       "<div class=\"krn-spql\"><table><tr class=hdr><th>label</th></tr><tr class=odd><td class=val>Phobic Disorders</td></tr><tr class=even><td class=val>Panic Disorder</td></tr><tr class=odd><td class=val>Hoarding Disorder</td></tr><tr class=even><td class=val>Obsessive-Compulsive Disorder</td></tr><tr class=odd><td class=val>Phobia, Social</td></tr><tr class=even><td class=val>Agoraphobia</td></tr><tr class=odd><td class=val>Anxiety, Separation</td></tr><tr class=even><td class=val>Neurocirculatory Asthenia</td></tr><tr class=odd><td class=val>Neurotic Disorders</td></tr></table><div class=\"tinfo\">Total: 9, Shown: 9</div></div>"
      ]
     },
     "metadata": {},
     "output_type": "display_data"
    }
   ],
   "source": [
    "PREFIX rdf: <http://www.w3.org/1999/02/22-rdf-syntax-ns#>\n",
    "PREFIX rdfs: <http://www.w3.org/2000/01/rdf-schema#>\n",
    "PREFIX xsd: <http://www.w3.org/2001/XMLSchema#>\n",
    "PREFIX owl: <http://www.w3.org/2002/07/owl#>\n",
    "PREFIX meshv: <http://id.nlm.nih.gov/mesh/vocab#>\n",
    "PREFIX mesh: <http://id.nlm.nih.gov/mesh/>\n",
    "PREFIX mesh2015: <http://id.nlm.nih.gov/mesh/2015/>\n",
    "PREFIX mesh2016: <http://id.nlm.nih.gov/mesh/2016/>\n",
    "PREFIX mesh2017: <http://id.nlm.nih.gov/mesh/2017/>\n",
    "PREFIX mesh2018: <http://id.nlm.nih.gov/mesh/2018/>\n",
    "\n",
    "SELECT DISTINCT ?label\n",
    "FROM <http://id.nlm.nih.gov/mesh>\n",
    "WHERE {\n",
    "    mesh:D001008 meshv:treeNumber ?treeNum .\n",
    "    ?childTreeNum meshv:parentTreeNumber+ ?treeNum .\n",
    "    ?descriptor meshv:treeNumber ?childTreeNum .\n",
    "    ?descriptor rdfs:label ?label .            \n",
    "} \n",
    "\n",
    "LIMIT 50"
   ]
  },
  {
   "cell_type": "markdown",
   "metadata": {},
   "source": [
    "## Todos os conceitos relacionados a uma busca"
   ]
  },
  {
   "cell_type": "code",
   "execution_count": 100,
   "metadata": {},
   "outputs": [
    {
     "data": {
      "text/html": [
       "<div class=\"krn-spql\"><table><tr class=hdr><th>descriptor</th>\n",
       "<th>label</th></tr><tr class=odd><td class=val><a href=\"http://id.nlm.nih.gov/mesh/D003866\" target=\"_other\">http://id.nlm.nih.gov/mesh/D003866</a></td>\n",
       "<td class=val>Depression, Endogenous</td></tr><tr class=even><td class=val><a href=\"http://id.nlm.nih.gov/mesh/D003866\" target=\"_other\">http://id.nlm.nih.gov/mesh/D003866</a></td>\n",
       "<td class=val>Melancholia</td></tr><tr class=odd><td class=val><a href=\"http://id.nlm.nih.gov/mesh/D003866\" target=\"_other\">http://id.nlm.nih.gov/mesh/D003866</a></td>\n",
       "<td class=val>Unipolar Depression</td></tr><tr class=even><td class=val><a href=\"http://id.nlm.nih.gov/mesh/D003866\" target=\"_other\">http://id.nlm.nih.gov/mesh/D003866</a></td>\n",
       "<td class=val>Depressive Syndrome</td></tr><tr class=odd><td class=val><a href=\"http://id.nlm.nih.gov/mesh/D003866\" target=\"_other\">http://id.nlm.nih.gov/mesh/D003866</a></td>\n",
       "<td class=val>Depression, Neurotic</td></tr><tr class=even><td class=val><a href=\"http://id.nlm.nih.gov/mesh/D003865\" target=\"_other\">http://id.nlm.nih.gov/mesh/D003865</a></td>\n",
       "<td class=val>Depression, Involutional</td></tr><tr class=odd><td class=val><a href=\"http://id.nlm.nih.gov/mesh/D003865\" target=\"_other\">http://id.nlm.nih.gov/mesh/D003865</a></td>\n",
       "<td class=val>Psychosis, Involutional</td></tr><tr class=even><td class=val><a href=\"http://id.nlm.nih.gov/mesh/D003865\" target=\"_other\">http://id.nlm.nih.gov/mesh/D003865</a></td>\n",
       "<td class=val>Paraphrenia, Involutional</td></tr><tr class=odd><td class=val><a href=\"http://id.nlm.nih.gov/mesh/D000275\" target=\"_other\">http://id.nlm.nih.gov/mesh/D000275</a></td>\n",
       "<td class=val>Anniversary Reaction</td></tr><tr class=even><td class=val><a href=\"http://id.nlm.nih.gov/mesh/D000275\" target=\"_other\">http://id.nlm.nih.gov/mesh/D000275</a></td>\n",
       "<td class=val>Depression, Reactive</td></tr><tr class=odd><td class=val><a href=\"http://id.nlm.nih.gov/mesh/D000275\" target=\"_other\">http://id.nlm.nih.gov/mesh/D000275</a></td>\n",
       "<td class=val>Transient Situational Disturbance</td></tr><tr class=even><td class=val><a href=\"http://id.nlm.nih.gov/mesh/D000341\" target=\"_other\">http://id.nlm.nih.gov/mesh/D000341</a></td>\n",
       "<td class=val>Depression, Reactive, Psychotic</td></tr><tr class=odd><td class=val><a href=\"http://id.nlm.nih.gov/mesh/D000341\" target=\"_other\">http://id.nlm.nih.gov/mesh/D000341</a></td>\n",
       "<td class=val>Psychotic Mood Disorders</td></tr><tr class=even><td class=val><a href=\"http://id.nlm.nih.gov/mesh/D001714\" target=\"_other\">http://id.nlm.nih.gov/mesh/D001714</a></td>\n",
       "<td class=val>Depression, Bipolar</td></tr><tr class=odd><td class=val><a href=\"http://id.nlm.nih.gov/mesh/D001714\" target=\"_other\">http://id.nlm.nih.gov/mesh/D001714</a></td>\n",
       "<td class=val>Manic Disorder</td></tr><tr class=even><td class=val><a href=\"http://id.nlm.nih.gov/mesh/D001714\" target=\"_other\">http://id.nlm.nih.gov/mesh/D001714</a></td>\n",
       "<td class=val>Mania</td></tr></table><div class=\"tinfo\">Total: 16, Shown: 16</div></div>"
      ]
     },
     "metadata": {},
     "output_type": "display_data"
    }
   ],
   "source": [
    "PREFIX rdf: <http://www.w3.org/1999/02/22-rdf-syntax-ns#>\n",
    "PREFIX rdfs: <http://www.w3.org/2000/01/rdf-schema#>\n",
    "PREFIX xsd: <http://www.w3.org/2001/XMLSchema#>\n",
    "PREFIX owl: <http://www.w3.org/2002/07/owl#>\n",
    "PREFIX meshv: <http://id.nlm.nih.gov/mesh/vocab#>\n",
    "PREFIX mesh: <http://id.nlm.nih.gov/mesh/>\n",
    "PREFIX mesh2015: <http://id.nlm.nih.gov/mesh/2015/>\n",
    "PREFIX mesh2016: <http://id.nlm.nih.gov/mesh/2016/>\n",
    "PREFIX mesh2017: <http://id.nlm.nih.gov/mesh/2017/>\n",
    "PREFIX mesh2018: <http://id.nlm.nih.gov/mesh/2018/>\n",
    "\n",
    "SELECT DISTINCT ?descriptor ?label\n",
    "FROM <http://id.nlm.nih.gov/mesh>\n",
    "WHERE {\n",
    "    ?concept rdfs:label ?s .\n",
    "    FILTER regex(str(?s), \"Depression\")\n",
    "    ?descriptor meshv:concept ?concept .\n",
    "    ?descriptor meshv:concept ?new .\n",
    "    ?descriptor meshv:treeNumber ?t .\n",
    "    FILTER regex(str(?t), \"F03\")                \n",
    "    ?new rdfs:label ?label\n",
    "} \n",
    "\n",
    "LIMIT 50"
   ]
  },
  {
   "cell_type": "markdown",
   "metadata": {},
   "source": [
    "## Em que categorias está a Dispareunia?"
   ]
  },
  {
   "cell_type": "code",
   "execution_count": 99,
   "metadata": {},
   "outputs": [
    {
     "data": {
      "text/html": [
       "<div class=\"krn-spql\"><table><tr class=hdr><th>pai</th>\n",
       "<th>avo</th></tr><tr class=odd><td class=val>Sexual Dysfunction, Physiological</td>\n",
       "<td class=val>Genital Diseases, Male</td></tr><tr class=even><td class=val>Sexual Dysfunction, Physiological</td>\n",
       "<td class=val>Genital Diseases, Female</td></tr><tr class=odd><td class=val>Sexual Dysfunctions, Psychological</td>\n",
       "<td class=val>Mental Disorders</td></tr></table><div class=\"tinfo\">Total: 3, Shown: 3</div></div>"
      ]
     },
     "metadata": {},
     "output_type": "display_data"
    }
   ],
   "source": [
    "PREFIX rdf: <http://www.w3.org/1999/02/22-rdf-syntax-ns#>\n",
    "PREFIX rdfs: <http://www.w3.org/2000/01/rdf-schema#>\n",
    "PREFIX xsd: <http://www.w3.org/2001/XMLSchema#>\n",
    "PREFIX owl: <http://www.w3.org/2002/07/owl#>\n",
    "PREFIX meshv: <http://id.nlm.nih.gov/mesh/vocab#>\n",
    "PREFIX mesh: <http://id.nlm.nih.gov/mesh/>\n",
    "PREFIX mesh2015: <http://id.nlm.nih.gov/mesh/2015/>\n",
    "PREFIX mesh2016: <http://id.nlm.nih.gov/mesh/2016/>\n",
    "PREFIX mesh2017: <http://id.nlm.nih.gov/mesh/2017/>\n",
    "PREFIX mesh2018: <http://id.nlm.nih.gov/mesh/2018/>\n",
    "\n",
    "SELECT DISTINCT ?pai ?avo\n",
    "FROM <http://id.nlm.nih.gov/mesh>\n",
    "WHERE {\n",
    "    mesh:D004414 meshv:treeNumber ?tree .\n",
    "    ?tree meshv:parentTreeNumber ?parent .\n",
    "    ?desc meshv:treeNumber ?parent .\n",
    "    ?desc rdfs:label ?pai .\n",
    "    ?desc meshv:broaderDescriptor ?broad .\n",
    "    ?broad rdfs:label ?avo\n",
    "    \n",
    "} \n",
    "\n",
    "LIMIT 50"
   ]
  },
  {
   "cell_type": "markdown",
   "metadata": {},
   "source": [
    "## Quais transtornos mentais foram estabelecidos no MeSH após 2001?"
   ]
  },
  {
   "cell_type": "code",
   "execution_count": 98,
   "metadata": {},
   "outputs": [
    {
     "data": {
      "text/html": [
       "<div class=\"krn-spql\"><table><tr class=hdr><th>descriptor</th>\n",
       "<th>label</th>\n",
       "<th>callret-2</th></tr><tr class=odd><td class=val><a href=\"http://id.nlm.nih.gov/mesh/D000073932\" target=\"_other\">http://id.nlm.nih.gov/mesh/D000073932</a></td>\n",
       "<td class=val>Food Addiction</td>\n",
       "<td class=val>2018</td></tr><tr class=even><td class=val><a href=\"http://id.nlm.nih.gov/mesh/D000074043\" target=\"_other\">http://id.nlm.nih.gov/mesh/D000074043</a></td>\n",
       "<td class=val>Night Eating Syndrome</td>\n",
       "<td class=val>2018</td></tr><tr class=odd><td class=val><a href=\"http://id.nlm.nih.gov/mesh/D000074607\" target=\"_other\">http://id.nlm.nih.gov/mesh/D000074607</a></td>\n",
       "<td class=val>Opium Dependence</td>\n",
       "<td class=val>2018</td></tr><tr class=even><td class=val><a href=\"http://id.nlm.nih.gov/mesh/D000074609\" target=\"_other\">http://id.nlm.nih.gov/mesh/D000074609</a></td>\n",
       "<td class=val>Marijuana Use</td>\n",
       "<td class=val>2018</td></tr><tr class=odd><td class=val><a href=\"http://id.nlm.nih.gov/mesh/D000075067\" target=\"_other\">http://id.nlm.nih.gov/mesh/D000075067</a></td>\n",
       "<td class=val>Substance Abuse, Oral</td>\n",
       "<td class=val>2018</td></tr><tr class=even><td class=val><a href=\"http://id.nlm.nih.gov/mesh/D000076042\" target=\"_other\">http://id.nlm.nih.gov/mesh/D000076042</a></td>\n",
       "<td class=val>Alcoholic Korsakoff Syndrome</td>\n",
       "<td class=val>2018</td></tr><tr class=odd><td class=val><a href=\"http://id.nlm.nih.gov/mesh/D000071257\" target=\"_other\">http://id.nlm.nih.gov/mesh/D000071257</a></td>\n",
       "<td class=val>Emergence Delirium</td>\n",
       "<td class=val>2017</td></tr><tr class=even><td class=val><a href=\"http://id.nlm.nih.gov/mesh/D000072861\" target=\"_other\">http://id.nlm.nih.gov/mesh/D000072861</a></td>\n",
       "<td class=val>Phobia, Social</td>\n",
       "<td class=val>2017</td></tr><tr class=odd><td class=val><a href=\"http://id.nlm.nih.gov/mesh/D000067073\" target=\"_other\">http://id.nlm.nih.gov/mesh/D000067073</a></td>\n",
       "<td class=val>Psychological Trauma</td>\n",
       "<td class=val>2016</td></tr><tr class=even><td class=val><a href=\"http://id.nlm.nih.gov/mesh/D000067404\" target=\"_other\">http://id.nlm.nih.gov/mesh/D000067404</a></td>\n",
       "<td class=val>Social Communication Disorder</td>\n",
       "<td class=val>2016</td></tr><tr class=odd><td class=val><a href=\"http://id.nlm.nih.gov/mesh/D000067454\" target=\"_other\">http://id.nlm.nih.gov/mesh/D000067454</a></td>\n",
       "<td class=val>Childhood-Onset Fluency Disorder</td>\n",
       "<td class=val>2016</td></tr><tr class=even><td class=val><a href=\"http://id.nlm.nih.gov/mesh/D000067559\" target=\"_other\">http://id.nlm.nih.gov/mesh/D000067559</a></td>\n",
       "<td class=val>Specific Learning Disorder</td>\n",
       "<td class=val>2016</td></tr><tr class=odd><td class=val><a href=\"http://id.nlm.nih.gov/mesh/D000067836\" target=\"_other\">http://id.nlm.nih.gov/mesh/D000067836</a></td>\n",
       "<td class=val>Hoarding Disorder</td>\n",
       "<td class=val>2016</td></tr><tr class=even><td class=val><a href=\"http://id.nlm.nih.gov/mesh/D000067877\" target=\"_other\">http://id.nlm.nih.gov/mesh/D000067877</a></td>\n",
       "<td class=val>Autism Spectrum Disorder</td>\n",
       "<td class=val>2016</td></tr><tr class=odd><td class=val><a href=\"http://id.nlm.nih.gov/mesh/D000068079\" target=\"_other\">http://id.nlm.nih.gov/mesh/D000068079</a></td>\n",
       "<td class=val>Motor Disorders</td>\n",
       "<td class=val>2016</td></tr><tr class=even><td class=val><a href=\"http://id.nlm.nih.gov/mesh/D000068099\" target=\"_other\">http://id.nlm.nih.gov/mesh/D000068099</a></td>\n",
       "<td class=val>Trauma and Stressor Related Disorders</td>\n",
       "<td class=val>2016</td></tr><tr class=odd><td class=val><a href=\"http://id.nlm.nih.gov/mesh/D000068105\" target=\"_other\">http://id.nlm.nih.gov/mesh/D000068105</a></td>\n",
       "<td class=val>Bipolar and Related Disorders</td>\n",
       "<td class=val>2016</td></tr><tr class=even><td class=val><a href=\"http://id.nlm.nih.gov/mesh/D000068116\" target=\"_other\">http://id.nlm.nih.gov/mesh/D000068116</a></td>\n",
       "<td class=val>Gender Dysphoria</td>\n",
       "<td class=val>2016</td></tr><tr class=odd><td class=val><a href=\"http://id.nlm.nih.gov/mesh/D065886\" target=\"_other\">http://id.nlm.nih.gov/mesh/D065886</a></td>\n",
       "<td class=val>Neurodevelopmental Disorders</td>\n",
       "<td class=val>2016</td></tr><tr class=even><td class=val><a href=\"http://id.nlm.nih.gov/mesh/D066229\" target=\"_other\">http://id.nlm.nih.gov/mesh/D066229</a></td>\n",
       "<td class=val>Speech Sound Disorder</td>\n",
       "<td class=val>2016</td></tr><tr class=odd><td class=val><a href=\"http://id.nlm.nih.gov/mesh/D065446\" target=\"_other\">http://id.nlm.nih.gov/mesh/D065446</a></td>\n",
       "<td class=val>Premenstrual Dysphoric Disorder</td>\n",
       "<td class=val>2015</td></tr><tr class=even><td class=val><a href=\"http://id.nlm.nih.gov/mesh/D063726\" target=\"_other\">http://id.nlm.nih.gov/mesh/D063726</a></td>\n",
       "<td class=val>Delusional Parasitosis</td>\n",
       "<td class=val>2014</td></tr><tr class=odd><td class=val><a href=\"http://id.nlm.nih.gov/mesh/D061686\" target=\"_other\">http://id.nlm.nih.gov/mesh/D061686</a></td>\n",
       "<td class=val>Premature Ejaculation</td>\n",
       "<td class=val>2013</td></tr><tr class=even><td class=val><a href=\"http://id.nlm.nih.gov/mesh/D063425\" target=\"_other\">http://id.nlm.nih.gov/mesh/D063425</a></td>\n",
       "<td class=val>Binge Drinking</td>\n",
       "<td class=val>2013</td></tr><tr class=odd><td class=val><a href=\"http://id.nlm.nih.gov/mesh/D060825\" target=\"_other\">http://id.nlm.nih.gov/mesh/D060825</a></td>\n",
       "<td class=val>Cognitive Dysfunction</td>\n",
       "<td class=val>2012</td></tr><tr class=even><td class=val><a href=\"http://id.nlm.nih.gov/mesh/D061218\" target=\"_other\">http://id.nlm.nih.gov/mesh/D061218</a></td>\n",
       "<td class=val>Depressive Disorder, Treatment-Resistant</td>\n",
       "<td class=val>2012</td></tr><tr class=odd><td class=val><a href=\"http://id.nlm.nih.gov/mesh/D060705\" target=\"_other\">http://id.nlm.nih.gov/mesh/D060705</a></td>\n",
       "<td class=val>Dyscalculia</td>\n",
       "<td class=val>2012</td></tr><tr class=even><td class=val><a href=\"http://id.nlm.nih.gov/mesh/D058545\" target=\"_other\">http://id.nlm.nih.gov/mesh/D058545</a></td>\n",
       "<td class=val>Inhalant Abuse</td>\n",
       "<td class=val>2011</td></tr><tr class=odd><td class=val><a href=\"http://id.nlm.nih.gov/mesh/D057215\" target=\"_other\">http://id.nlm.nih.gov/mesh/D057215</a></td>\n",
       "<td class=val>Body Dysmorphic Disorders</td>\n",
       "<td class=val>2010</td></tr><tr class=even><td class=val><a href=\"http://id.nlm.nih.gov/mesh/D057178\" target=\"_other\">http://id.nlm.nih.gov/mesh/D057178</a></td>\n",
       "<td class=val>Primary Progressive Nonfluent Aphasia</td>\n",
       "<td class=val>2010</td></tr><tr class=odd><td class=val><a href=\"http://id.nlm.nih.gov/mesh/D055956\" target=\"_other\">http://id.nlm.nih.gov/mesh/D055956</a></td>\n",
       "<td class=val>Diffuse Neurofibrillary Tangles with Calcification</td>\n",
       "<td class=val>2010</td></tr><tr class=even><td class=val><a href=\"http://id.nlm.nih.gov/mesh/D057174\" target=\"_other\">http://id.nlm.nih.gov/mesh/D057174</a></td>\n",
       "<td class=val>Frontotemporal Lobar Degeneration</td>\n",
       "<td class=val>2010</td></tr><tr class=odd><td class=val><a href=\"http://id.nlm.nih.gov/mesh/D057180\" target=\"_other\">http://id.nlm.nih.gov/mesh/D057180</a></td>\n",
       "<td class=val>Frontotemporal Dementia</td>\n",
       "<td class=val>2010</td></tr><tr class=even><td class=val><a href=\"http://id.nlm.nih.gov/mesh/D056912\" target=\"_other\">http://id.nlm.nih.gov/mesh/D056912</a></td>\n",
       "<td class=val>Binge-Eating Disorder</td>\n",
       "<td class=val>2010</td></tr><tr class=odd><td class=val><a href=\"http://id.nlm.nih.gov/mesh/D055535\" target=\"_other\">http://id.nlm.nih.gov/mesh/D055535</a></td>\n",
       "<td class=val>Morgellons Disease</td>\n",
       "<td class=val>2009</td></tr><tr class=even><td class=val><a href=\"http://id.nlm.nih.gov/mesh/D007172\" target=\"_other\">http://id.nlm.nih.gov/mesh/D007172</a></td>\n",
       "<td class=val>Erectile Dysfunction</td>\n",
       "<td class=val>2008</td></tr><tr class=odd><td class=val><a href=\"http://id.nlm.nih.gov/mesh/D053207\" target=\"_other\">http://id.nlm.nih.gov/mesh/D053207</a></td>\n",
       "<td class=val>Diurnal Enuresis</td>\n",
       "<td class=val>2007</td></tr><tr class=even><td class=val><a href=\"http://id.nlm.nih.gov/mesh/D053716\" target=\"_other\">http://id.nlm.nih.gov/mesh/D053716</a></td>\n",
       "<td class=val>Female Athlete Triad Syndrome</td>\n",
       "<td class=val>2007</td></tr><tr class=odd><td class=val><a href=\"http://id.nlm.nih.gov/mesh/D053206\" target=\"_other\">http://id.nlm.nih.gov/mesh/D053206</a></td>\n",
       "<td class=val>Nocturnal Enuresis</td>\n",
       "<td class=val>2007</td></tr><tr class=even><td class=val><a href=\"http://id.nlm.nih.gov/mesh/D052018\" target=\"_other\">http://id.nlm.nih.gov/mesh/D052018</a></td>\n",
       "<td class=val>Bulimia Nervosa</td>\n",
       "<td class=val>2006</td></tr><tr class=odd><td class=val><a href=\"http://id.nlm.nih.gov/mesh/D052065\" target=\"_other\">http://id.nlm.nih.gov/mesh/D052065</a></td>\n",
       "<td class=val>Vaginismus</td>\n",
       "<td class=val>2006</td></tr><tr class=even><td class=val><a href=\"http://id.nlm.nih.gov/mesh/D040921\" target=\"_other\">http://id.nlm.nih.gov/mesh/D040921</a></td>\n",
       "<td class=val>Stress Disorders, Traumatic</td>\n",
       "<td class=val>2003</td></tr><tr class=odd><td class=val><a href=\"http://id.nlm.nih.gov/mesh/D040701\" target=\"_other\">http://id.nlm.nih.gov/mesh/D040701</a></td>\n",
       "<td class=val>Stress Disorders, Traumatic, Acute</td>\n",
       "<td class=val>2003</td></tr></table><div class=\"tinfo\">Total: 43, Shown: 43</div></div>"
      ]
     },
     "metadata": {},
     "output_type": "display_data"
    }
   ],
   "source": [
    "PREFIX rdf: <http://www.w3.org/1999/02/22-rdf-syntax-ns#>\n",
    "PREFIX rdfs: <http://www.w3.org/2000/01/rdf-schema#>\n",
    "PREFIX xsd: <http://www.w3.org/2001/XMLSchema#>\n",
    "PREFIX owl: <http://www.w3.org/2002/07/owl#>\n",
    "PREFIX meshv: <http://id.nlm.nih.gov/mesh/vocab#>\n",
    "PREFIX mesh: <http://id.nlm.nih.gov/mesh/>\n",
    "PREFIX mesh2015: <http://id.nlm.nih.gov/mesh/2015/>\n",
    "PREFIX mesh2016: <http://id.nlm.nih.gov/mesh/2016/>\n",
    "PREFIX mesh2017: <http://id.nlm.nih.gov/mesh/2017/>\n",
    "\n",
    " SELECT DISTINCT ?descriptor ?label year(?dateEstablished)\n",
    " FROM <http://id.nlm.nih.gov/mesh>\n",
    "\n",
    " WHERE {\n",
    "   mesh:D001523 meshv:treeNumber ?treeNum .\n",
    "   ?childTreeNum meshv:parentTreeNumber+ ?treeNum .\n",
    "   ?descriptor meshv:treeNumber ?childTreeNum .\n",
    "   ?descriptor rdfs:label ?label .\n",
    "   ?descriptor meshv:dateEstablished ?dateEstablished .\n",
    "   FILTER (year(?dateEstablished) >= 2001)\n",
    " }\n",
    " \n",
    " ORDER BY DESC (?dateEstablished)\n"
   ]
  },
  {
   "cell_type": "markdown",
   "metadata": {},
   "source": [
    "## Contar quantos transtornos estão relacionados às subcategorias de transtornos mentais"
   ]
  },
  {
   "cell_type": "code",
   "execution_count": 112,
   "metadata": {},
   "outputs": [
    {
     "data": {
      "text/html": [
       "<div class=\"krn-spql\"><table><tr class=hdr><th>labelCat</th>\n",
       "<th>callret-1</th></tr><tr class=odd><td class=val>Neurodevelopmental Disorders</td>\n",
       "<td class=val>27</td></tr><tr class=even><td class=val>Neurocognitive Disorders</td>\n",
       "<td class=val>30</td></tr><tr class=odd><td class=val>Anxiety Disorders</td>\n",
       "<td class=val>9</td></tr><tr class=even><td class=val>Trauma and Stressor Related Disorders</td>\n",
       "<td class=val>7</td></tr><tr class=odd><td class=val>Personality Disorders</td>\n",
       "<td class=val>10</td></tr><tr class=even><td class=val>Somatoform Disorders</td>\n",
       "<td class=val>7</td></tr><tr class=odd><td class=val>Disruptive, Impulse Control, and Conduct Disorders</td>\n",
       "<td class=val>3</td></tr><tr class=even><td class=val>Dissociative Disorders</td>\n",
       "<td class=val>1</td></tr><tr class=odd><td class=val>Sleep Wake Disorders</td>\n",
       "<td class=val>54</td></tr><tr class=even><td class=val>Bipolar and Related Disorders</td>\n",
       "<td class=val>1</td></tr><tr class=odd><td class=val>Elimination Disorders</td>\n",
       "<td class=val>4</td></tr><tr class=even><td class=val>Mood Disorders</td>\n",
       "<td class=val>8</td></tr><tr class=odd><td class=val>Sexual Dysfunctions, Psychological</td>\n",
       "<td class=val>6</td></tr><tr class=even><td class=val>Substance-Related Disorders</td>\n",
       "<td class=val>64</td></tr><tr class=odd><td class=val>Feeding and Eating Disorders</td>\n",
       "<td class=val>8</td></tr><tr class=even><td class=val>Schizophrenia Spectrum and Other Psychotic Disorders</td>\n",
       "<td class=val>13</td></tr><tr class=odd><td class=val>Paraphilic Disorders</td>\n",
       "<td class=val>7</td></tr></table><div class=\"tinfo\">Total: 17, Shown: 17</div></div>"
      ]
     },
     "metadata": {},
     "output_type": "display_data"
    }
   ],
   "source": [
    "PREFIX rdf: <http://www.w3.org/1999/02/22-rdf-syntax-ns#>\n",
    "PREFIX rdfs: <http://www.w3.org/2000/01/rdf-schema#>\n",
    "PREFIX xsd: <http://www.w3.org/2001/XMLSchema#>\n",
    "PREFIX owl: <http://www.w3.org/2002/07/owl#>\n",
    "PREFIX meshv: <http://id.nlm.nih.gov/mesh/vocab#>\n",
    "PREFIX mesh: <http://id.nlm.nih.gov/mesh/>\n",
    "PREFIX mesh2015: <http://id.nlm.nih.gov/mesh/2015/>\n",
    "PREFIX mesh2016: <http://id.nlm.nih.gov/mesh/2016/>\n",
    "PREFIX mesh2017: <http://id.nlm.nih.gov/mesh/2017/>\n",
    "PREFIX mesh2018: <http://id.nlm.nih.gov/mesh/2018/>\n",
    "\n",
    "SELECT DISTINCT ?labelCat count(?descriptor)\n",
    "FROM <http://id.nlm.nih.gov/mesh>\n",
    "WHERE {\n",
    "    ?subcat meshv:broaderDescriptor mesh:D001523 .\n",
    "    ?subcat rdfs:label ?labelCat .            \n",
    "    ?subcat meshv:treeNumber ?treeNum .\n",
    "    ?childTreeNum meshv:parentTreeNumber+ ?treeNum .\n",
    "    ?descriptor meshv:treeNumber ?childTreeNum .           \n",
    "} \n",
    "GROUP BY ?labelCat\n",
    "\n",
    "LIMIT 50"
   ]
  },
  {
   "cell_type": "markdown",
   "metadata": {},
   "source": [
    "# XQuery"
   ]
  },
  {
   "cell_type": "raw",
   "metadata": {},
   "source": [
    "Estrutura:\n",
    "\n",
    "<PESQUISAS>\n",
    "  <PESQUISA>\n",
    "    <IDPESSOA></IDPESSOA>\n",
    "    <DATA_HORA></DATA_HORA>\n",
    "    <TRABALHO_PROPRIO></TRABALHO_PROPRIO>\n",
    "    <HISTORICO_FAMILIAR></HISTORICO_FAMILIAR>\n",
    "    <TRATAMENTO></TRATAMENTO>\n",
    "    <INTERFERENCIA_TRABALHO></INTERFERENCIA_TRABALHO>\n",
    "    <TRABALHO_REMOTO></TRABALHO_REMOTO>\n",
    "    <EMPRESA_TI></EMPRESA_TI>\n",
    "    <CONHECE_OPCOES></CONHECE_OPCOES>\n",
    "    <PROGRAMA_SAUDE>o</PROGRAMA_SAUDE>\n",
    "    <BUSCA_TRATAMENTO></BUSCA_TRATAMENTO>\n",
    "    <ANONIMIDADE></ANONIMIDADE>\n",
    "    <LICENCA_MEDICA></LICENCA_MEDICA>\n",
    "    <MENTAL_CONSEQUENCIA></MENTAL_CONSEQUENCIA>\n",
    "    <FISICA_CONSEQUENCIA></FISICA_CONSEQUENCIA>\n",
    "    <MENTAL_ENTREVISTA></MENTAL_ENTREVISTA>\n",
    "    <FISICA_ENTREVISTA></FISICA_ENTREVISTA>\n",
    "    <MENTAL_FISICA></MENTAL_FISICA>\n",
    "    <HOUVE_CONSEQUENCIAS></HOUVE_CONSEQUENCIAS>\n",
    "    <ID></ID>\n",
    "    <IDADE></IDADE>\n",
    "    <GENERO></GENERO>\n",
    "    <PAIS></PAIS>\n",
    "    <ESTADO></ESTADO>\n",
    "  </PESQUISA>\n",
    "      </PESQUISAS>"
   ]
  },
  {
   "cell_type": "markdown",
   "metadata": {},
   "source": [
    "## Porcentagem de pessoas que trabalham em TI as quais acreditam que os seus chefes dão importância para a saúde mental"
   ]
  },
  {
   "cell_type": "code",
   "execution_count": null,
   "metadata": {},
   "outputs": [],
   "source": [
    "let $pesquisadoc := doc('mydoc.xml')\n",
    "let $total := count($pesquisadoc//PESQUISA[EMPRESA_TI=\"Yes\"])\n",
    "let $importancia := count($pesquisadoc//PESQUISA[MENTAL_FISICA=\"Yes\"][EMPRESA_TI=\"Yes\"])\n",
    "\n",
    "return <result>{round($importancia div $total,2)}</result>"
   ]
  },
  {
   "cell_type": "markdown",
   "metadata": {},
   "source": [
    "## Porcentagem de pessoas que buscam tratamento por gênero"
   ]
  },
  {
   "cell_type": "code",
   "execution_count": null,
   "metadata": {},
   "outputs": [],
   "source": [
    "let $pesquisadoc := doc('mydoc.xml')\n",
    "\n",
    "let $numHT := count($pesquisadoc//PESQUISA[GENERO=\"Male\"])\n",
    "let $numMT := count($pesquisadoc//PESQUISA[GENERO=\"Female\"])\n",
    "let $numNBT := count($pesquisadoc//PESQUISA[GENERO!=\"Female\"][GENERO!=\"Male\"])\n",
    "\n",
    "let $numH := count($pesquisadoc//PESQUISA[GENERO=\"Male\"][BUSCA_TRATAMENTO=\"Yes\"])\n",
    "let $numM := count($pesquisadoc//PESQUISA[GENERO=\"Female\"][BUSCA_TRATAMENTO=\"Yes\"])\n",
    "let $numNB := count($pesquisadoc//PESQUISA[GENERO!=\"Female\"][GENERO!=\"Male\"][BUSCA_TRATAMENTO=\"Yes\"])\n",
    "\n",
    "return <numeros>\n",
    "         <Numero_Homens>{round($numH div $numHT, 2)}</Numero_Homens>\n",
    "         <Numero_Mulheres>{round($numM div $numMT, 2)}</Numero_Mulheres>\n",
    "         <Numero_Nao_Binario>{round($numNB div $numNBT, 2)}</Numero_Nao_Binario>\n",
    "       </numeros>"
   ]
  },
  {
   "cell_type": "markdown",
   "metadata": {},
   "source": [
    "## Número de pessoas que já buscaram tratamento para saúde mental por idade"
   ]
  },
  {
   "cell_type": "code",
   "execution_count": 1,
   "metadata": {},
   "outputs": [
    {
     "data": {
      "text/html": [
       "<div class=\"krn-spql\"><div class=\"krn-error\"><span class=\"title\">Error:</span> no endpoint defined</div></div>"
      ],
      "text/plain": [
       "Error: no endpoint defined"
      ]
     },
     "metadata": {},
     "output_type": "display_data"
    }
   ],
   "source": [
    "let $pesquisadoc := doc('mydoc.xml')\n",
    "\n",
    "for $p in ($pesquisadoc//PESQUISA)\n",
    "where $p[TRATAMENTO=\"Yes\"]\n",
    "\n",
    "let $idade := $p/IDADE\n",
    "\n",
    "order by $idade\n",
    "group by $idade\n",
    "\n",
    "return\n",
    "       <result>Idade:{$idade} | Qtd: {count($p)}</result>"
   ]
  },
  {
   "cell_type": "markdown",
   "metadata": {},
   "source": [
    "## Descobrir se pessoas que cuidam do próprio negócio buscam mais tratamento que as outras"
   ]
  },
  {
   "cell_type": "code",
   "execution_count": 2,
   "metadata": {},
   "outputs": [
    {
     "data": {
      "text/html": [
       "<div class=\"krn-spql\"><div class=\"krn-error\"><span class=\"title\">Error:</span> no endpoint defined</div></div>"
      ],
      "text/plain": [
       "Error: no endpoint defined"
      ]
     },
     "metadata": {},
     "output_type": "display_data"
    }
   ],
   "source": [
    "let $pesquisadoc := doc('mydoc.xml')\n",
    "\n",
    "for $p in ($pesquisadoc//PESQUISA)\n",
    "where $p[TRABALHO_PROPRIO!=\"NA\"]\n",
    "\n",
    "let $trabalho := $p/TRABALHO_PROPRIO\n",
    "let $tratamento := $p/TRATAMENTO\n",
    "\n",
    "order by $trabalho\n",
    "group by $trabalho, $tratamento\n",
    "\n",
    "return\n",
    "       <result>Trabalho Proprio:{$trabalho} | Tratamento: {$tratamento} |  Qtd: {count($p)}</result>\n"
   ]
  },
  {
   "cell_type": "markdown",
   "metadata": {},
   "source": [
    "## Selecionar a interferencia do trabalho por genero"
   ]
  },
  {
   "cell_type": "code",
   "execution_count": 3,
   "metadata": {},
   "outputs": [
    {
     "data": {
      "text/html": [
       "<div class=\"krn-spql\"><div class=\"krn-error\"><span class=\"title\">Error:</span> no endpoint defined</div></div>"
      ],
      "text/plain": [
       "Error: no endpoint defined"
      ]
     },
     "metadata": {},
     "output_type": "display_data"
    }
   ],
   "source": [
    "let $pesquisadoc := doc('mydoc.xml')\n",
    "\n",
    "for $p in ($pesquisadoc//PESQUISA)\n",
    "where $p[INTERFERENCIA_TRABALHO=\"Sometimes\" or INTERFERENCIA_TRABALHO=\"Often\"]\n",
    "\n",
    "let $genero := $p/GENERO\n",
    "\n",
    "group by $genero\n",
    "\n",
    "return\n",
    "       <result>Gênero:{$genero} | Qtd: {count($p)}</result>\n"
   ]
  },
  {
   "cell_type": "code",
   "execution_count": null,
   "metadata": {},
   "outputs": [],
   "source": []
  }
 ],
 "metadata": {
  "kernelspec": {
   "display_name": "SPARQL",
   "language": "sparql",
   "name": "sparql"
  },
  "language_info": {
   "codemirror_mode": {
    "name": "sparql"
   },
   "mimetype": "application/sparql-query",
   "name": "sparql",
   "pygments_lexer": "sparql-nb"
  }
 },
 "nbformat": 4,
 "nbformat_minor": 2
}
